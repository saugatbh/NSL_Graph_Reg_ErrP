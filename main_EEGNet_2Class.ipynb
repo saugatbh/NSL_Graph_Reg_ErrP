{
  "nbformat": 4,
  "nbformat_minor": 0,
  "metadata": {
    "colab": {
      "name": "main_EEGNet_2Class.ipynb",
      "provenance": [],
      "collapsed_sections": [],
      "machine_shape": "hm",
      "include_colab_link": true
    },
    "kernelspec": {
      "name": "python3",
      "display_name": "Python 3"
    },
    "accelerator": "GPU"
  },
  "cells": [
    {
      "cell_type": "markdown",
      "metadata": {
        "id": "view-in-github",
        "colab_type": "text"
      },
      "source": [
        "<a href=\"https://colab.research.google.com/github/sagihaider/EEG_Deep/blob/master/main_2Class/main_EEGNet_2Class.ipynb\" target=\"_parent\"><img src=\"https://colab.research.google.com/assets/colab-badge.svg\" alt=\"Open In Colab\"/></a>"
      ]
    },
    {
      "cell_type": "code",
      "metadata": {
        "id": "X110PE9MjrlE",
        "colab_type": "code",
        "outputId": "63febe3e-43ee-49c9-8333-29200c25b401",
        "colab": {
          "base_uri": "https://localhost:8080/",
          "height": 163
        }
      },
      "source": [
        "!git clone https://github.com/sagihaider/EEG_Deep.git"
      ],
      "execution_count": 1,
      "outputs": [
        {
          "output_type": "stream",
          "text": [
            "Cloning into 'EEG_Deep'...\n",
            "remote: Enumerating objects: 36, done.\u001b[K\n",
            "remote: Counting objects: 100% (36/36), done.\u001b[K\n",
            "remote: Compressing objects: 100% (36/36), done.\u001b[K\n",
            "remote: Total 513 (delta 20), reused 0 (delta 0), pack-reused 477\u001b[K\n",
            "Receiving objects: 100% (513/513), 1.69 GiB | 49.52 MiB/s, done.\n",
            "Resolving deltas: 100% (250/250), done.\n",
            "Checking out files: 100% (95/95), done.\n"
          ],
          "name": "stdout"
        }
      ]
    },
    {
      "cell_type": "code",
      "metadata": {
        "id": "ioLzMoiS60Qf",
        "colab_type": "code",
        "outputId": "a798bf09-a93a-4ea9-fedd-9cceb482f5f4",
        "colab": {
          "base_uri": "https://localhost:8080/",
          "height": 83
        }
      },
      "source": [
        "import scipy.io as spio\n",
        "from google.colab import files\n",
        "import numpy as np\n",
        "import pandas as pd\n",
        "from numpy import zeros\n",
        "import time\n",
        "from importlib.machinery import SourceFileLoader\n",
        "\n",
        "# EEGNet-specific imports\n",
        "from EEG_Deep.EEGModels import EEGNet, ShallowConvNet, DeepConvNet, EEGNet_Patient\n",
        "from tensorflow.keras import utils as np_utils\n",
        "from tensorflow.keras.callbacks import ModelCheckpoint\n",
        "from tensorflow.keras import backend as K\n",
        "from keras import backend as K \n",
        "K.set_image_data_format('channels_first')\n",
        "\n",
        "# tools for plotting confusion matrices\n",
        "from matplotlib import pyplot as plt\n",
        "from scipy.signal import butter, lfilter\n",
        "\n",
        "# Band-pass Filter\n",
        "def butter_bandpass_filter(data, lowcut, highcut, fs, order=4):\n",
        "    nyq = 0.5 * fs\n",
        "    low = lowcut / nyq\n",
        "    high = highcut / nyq\n",
        "    b, a = butter(order, [low, high], btype='band')\n",
        "    y = lfilter(b, a, data)\n",
        "    return y"
      ],
      "execution_count": 1,
      "outputs": [
        {
          "output_type": "display_data",
          "data": {
            "text/html": [
              "<p style=\"color: red;\">\n",
              "The default version of TensorFlow in Colab will soon switch to TensorFlow 2.x.<br>\n",
              "We recommend you <a href=\"https://www.tensorflow.org/guide/migrate\" target=\"_blank\">upgrade</a> now \n",
              "or ensure your notebook will continue to use TensorFlow 1.x via the <code>%tensorflow_version 1.x</code> magic:\n",
              "<a href=\"https://colab.research.google.com/notebooks/tensorflow_version.ipynb\" target=\"_blank\">more info</a>.</p>\n"
            ],
            "text/plain": [
              "<IPython.core.display.HTML object>"
            ]
          },
          "metadata": {
            "tags": []
          }
        },
        {
          "output_type": "stream",
          "text": [
            "Using TensorFlow backend.\n"
          ],
          "name": "stderr"
        }
      ]
    },
    {
      "cell_type": "code",
      "metadata": {
        "id": "DUHXK4GEDfMR",
        "colab_type": "code",
        "colab": {}
      },
      "source": [
        "from numpy import zeros\n",
        "K.clear_session()\n",
        "\n",
        "# Initialize parameter\n",
        "h_cut = [40]\n",
        "drop_out = [0.25]\n",
        "k_len = [32, 64, 128]\n",
        "n_epochs = 300\n",
        "out_f_name = 'acc_EEGNet' + '_epochs_' + str(n_epochs) + '_filter_' + str(h_cut) +'_drop_' + str(drop_out) +'_ReniData.npy'\n",
        "print(out_f_name)\n",
        "\n",
        "nsub = 14\n",
        "nfilt = len(h_cut)\n",
        "ndrop = len(drop_out)\n",
        "nkl = len(k_len)\n",
        "# loss_score = zeros([nsub, nfilt,ndrop,nkl])\n",
        "# categorical_crossentropy_score = zeros([nsub, nfilt,ndrop,nkl])\n",
        "acc_all = zeros([nsub, nfilt,ndrop,nkl])\n",
        "\n",
        "X_tr = np.empty([100, 15, 4096])\n",
        "X_ts = np.empty([60, 15, 4096])\n",
        "\n",
        "\n",
        "for sub_idx, x in enumerate(range(1,15)):\n",
        "    for h_indx, h in enumerate(h_cut):\n",
        "      fName = 'EEG_Deep/Data2A/Eopched_S0' + str(x) + 'T.mat'  # Load Data\n",
        "      print(fName)\n",
        "      mat = spio.loadmat(fName)\n",
        "      r_X_tr = mat['cleanRawEEGData']\n",
        "      y_tr = mat['cleanClassLabels']\n",
        "      y_tr = y_tr.flatten() \n",
        "  \n",
        "      print(np.shape(r_X_tr))\n",
        "      print(np.shape(y_tr))\n",
        "\n",
        "      for t in range(r_X_tr.shape[0]):\n",
        "        tril = r_X_tr[t,:,:]\n",
        "        # tril = tril.transpose()\n",
        "        tril_filtered = butter_bandpass_filter(tril, lowcut=4, highcut=h, fs=250, order=4)\n",
        "        # tril_filtered = tril_filtered.transpose()\n",
        "        X_tr[t,:,:] = tril_filtered \n",
        "    \n",
        "      # split data of each subject in training and validation\n",
        "      X_train      = X_tr[0:80,:,1536:3072]\n",
        "      Y_train      = y_tr[0:80]\n",
        "      X_val       = X_tr[80:,:,1536:3072]\n",
        "      Y_val       = y_tr[80:]\n",
        "\n",
        "      print(np.shape(X_train))\n",
        "      print(np.shape(Y_train))\n",
        "      print(np.shape(X_val))\n",
        "      print(np.shape(Y_val))\n",
        "  \n",
        "      # convert labels to one-hot encodings.\n",
        "      Y_train      = np_utils.to_categorical(Y_train-1)\n",
        "      Y_val       = np_utils.to_categorical(Y_val-1)\n",
        "\n",
        "      kernels, chans, samples = 1, 15, 1536\n",
        "      # convert data to NCHW (trials, kernels, channels, samples) format. Data \n",
        "      # contains 22 channels and 500 time-points. Set the number of kernels to 1.\n",
        "      X_train      = X_train.reshape(X_train.shape[0], kernels, chans, samples)\n",
        "      X_val       = X_val.reshape(X_val.shape[0], kernels, chans, samples)\n",
        "   \n",
        "      print('X_train shape:', X_train.shape)\n",
        "      print(X_train.shape[0], 'train samples')\n",
        "      print(X_val.shape[0], 'val samples')\n",
        "\n",
        "      fName = 'EEG_Deep/Data2A/Eopched_S0' + str(x) + 'E.mat'  # Load Data\n",
        "      print(fName)\n",
        "      mat = spio.loadmat(fName)\n",
        "      r_X_ts = mat['cleanRawEEGData']\n",
        "      y_ts = mat['cleanClassLabels']\n",
        "      y_ts = y_ts.flatten() \n",
        "\n",
        "      print(np.shape(r_X_ts))\n",
        "      print(np.shape(y_ts))\n",
        "\n",
        "      for t in range(r_X_ts.shape[0]):\n",
        "        tril = r_X_ts[t,:,:]\n",
        "        # tril = tril.transpose()\n",
        "        tril_filtered = butter_bandpass_filter(tril, lowcut=4, highcut=h, fs=250, order=4)\n",
        "        # tril_filtered = tril_filtered.transpose()\n",
        "        X_ts[t,:,:] = tril_filtered \n",
        "\n",
        "      X_test      = X_ts[:,:,1536:3072]\n",
        "      Y_test      = y_ts[:]\n",
        "      print(np.shape(X_test))\n",
        "      print(np.shape(Y_test))\n",
        "\n",
        "      #convert labels to one-hot encodings.\n",
        "      Y_test      = np_utils.to_categorical(Y_test-1)\n",
        "\n",
        "      # convert data to NCHW (trials, kernels, channels, samples) format. Data \n",
        "      # contains 22 channels and 500 time-points. Set the number of kernels to 1.\n",
        "      X_test      = X_test.reshape(X_test.shape[0], kernels, chans, samples)\n",
        "\n",
        "      print('X_train shape:', X_test.shape)\n",
        "      print(X_test.shape[0], 'test samples')\n",
        "\n",
        "      for id_d, d in enumerate(drop_out):\n",
        "        for id_kl, kl in enumerate(k_len):\n",
        "          print(id_kl, id_d)\n",
        "          # configure the EEGNet-8,2,16 model with kernel length of 32 samples (other \n",
        "          # model configurations may do better, but this is a good starting point)\n",
        "          model = EEGNet(nb_classes = 2, Chans = 15, Samples = 1536, dropoutRate = d, \n",
        "                         kernLength = kl, F1 = 8, D = 2, F2 = 16, norm_rate = 0.25, \n",
        "                         dropoutType = 'Dropout')\n",
        "          \n",
        "          # compile the model and set the optimizers\n",
        "          model.compile(loss='categorical_crossentropy', optimizer='adam', \n",
        "                        metrics = ['accuracy'])\n",
        "\n",
        "          # count number of parameters in the model\n",
        "          numParams    = model.count_params() \n",
        "\n",
        "          # set a valid path for your system to record model checkpoints\n",
        "          checkpointer = ModelCheckpoint(filepath='/tmp/checkpoint.h5', verbose=1,\n",
        "                                     save_best_only=True)\n",
        "  \n",
        "          # the syntax is {class_1:weight_1, class_2:weight_2,...}. Here just setting\n",
        "          # the weights all to be 1\n",
        "          class_weights = {0:1, 1:1}\n",
        "\n",
        "          history = model.fit(X_train, Y_train, batch_size = 16, epochs = n_epochs, \n",
        "                              verbose = 2, validation_data=(X_val, Y_val),\n",
        "                              callbacks=[checkpointer], class_weight = class_weights)\n",
        "\n",
        "\n",
        "          print('\\n# Evaluate on test data')\n",
        "          results = model.evaluate(X_test, Y_test, batch_size=1)\n",
        "          print('test loss, test acc:', results)\n",
        "          # loss_score[sub_idx,h_indx,id_d, id_kl] = results[0]\n",
        "          acc_all[sub_idx,h_indx,id_d, id_kl] = results[1]\n",
        "          # categorical_accuracy[sub_idx,h_indx,id_d, id_kl] = results[2]\n",
        "\n",
        "#           del train_data, val_data, test_data\n",
        "\n",
        "# #           from keras import backend as K \n",
        "#           K.clear_session()\n",
        "\n",
        "np.save(out_f_name, acc_all)\n"
      ],
      "execution_count": 0,
      "outputs": []
    }
  ]
}