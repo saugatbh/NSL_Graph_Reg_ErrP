{
 "cells": [
  {
   "cell_type": "markdown",
   "metadata": {
    "colab_type": "text",
    "id": "view-in-github"
   },
   "source": [
    "<a href=\"https://colab.research.google.com/github/sagihaider/EEG_Deep/blob/master/main_2Class/main_EEGNet_NSL_2Class.ipynb\" target=\"_parent\"><img src=\"https://colab.research.google.com/assets/colab-badge.svg\" alt=\"Open In Colab\"/></a>"
   ]
  },
  {
   "cell_type": "code",
   "execution_count": 0,
   "metadata": {
    "colab": {
     "base_uri": "https://localhost:8080/",
     "height": 153
    },
    "colab_type": "code",
    "id": "X110PE9MjrlE",
    "outputId": "533e7241-1812-4f9d-b403-50c5c7c36a1f"
   },
   "outputs": [
    {
     "name": "stdout",
     "output_type": "stream",
     "text": [
      "Cloning into 'EEG_Deep'...\n",
      "remote: Enumerating objects: 90, done.\u001b[K\n",
      "remote: Counting objects: 100% (90/90), done.\u001b[K\n",
      "remote: Compressing objects: 100% (90/90), done.\u001b[K\n",
      "Receiving objects: 100% (403/403), 1.69 GiB | 48.21 MiB/s, done.\n",
      "remote: Total 403 (delta 56), reused 0 (delta 0), pack-reused 313\n",
      "Resolving deltas: 100% (184/184), done.\n",
      "Checking out files: 100% (96/96), done.\n"
     ]
    }
   ],
   "source": [
    "!git clone https://github.com/sagihaider/EEG_Deep.git"
   ]
  },
  {
   "cell_type": "code",
   "execution_count": 0,
   "metadata": {
    "colab": {
     "base_uri": "https://localhost:8080/",
     "height": 270
    },
    "colab_type": "code",
    "id": "ioLzMoiS60Qf",
    "outputId": "9110af1f-063b-427a-98fe-30c08edc8949"
   },
   "outputs": [
    {
     "data": {
      "text/html": [
       "<p style=\"color: red;\">\n",
       "The default version of TensorFlow in Colab will soon switch to TensorFlow 2.x.<br>\n",
       "We recommend you <a href=\"https://www.tensorflow.org/guide/migrate\" target=\"_blank\">upgrade</a> now \n",
       "or ensure your notebook will continue to use TensorFlow 1.x via the <code>%tensorflow_version 1.x</code> magic:\n",
       "<a href=\"https://colab.research.google.com/notebooks/tensorflow_version.ipynb\" target=\"_blank\">more info</a>.</p>\n"
      ],
      "text/plain": [
       "<IPython.core.display.HTML object>"
      ]
     },
     "metadata": {
      "tags": []
     },
     "output_type": "display_data"
    },
    {
     "name": "stderr",
     "output_type": "stream",
     "text": [
      "Using TensorFlow backend.\n"
     ]
    },
    {
     "name": "stdout",
     "output_type": "stream",
     "text": [
      "Collecting neural_structured_learning\n",
      "\u001b[?25l  Downloading https://files.pythonhosted.org/packages/08/2e/22b1385d7d601ad0c81457a5b66b3bb6f3c400348c62ea3f07a5fc1b13bc/neural_structured_learning-1.1.0-py2.py3-none-any.whl (104kB)\n",
      "\r",
      "\u001b[K     |███▏                            | 10kB 26.0MB/s eta 0:00:01\r",
      "\u001b[K     |██████▎                         | 20kB 1.8MB/s eta 0:00:01\r",
      "\u001b[K     |█████████▍                      | 30kB 2.6MB/s eta 0:00:01\r",
      "\u001b[K     |████████████▌                   | 40kB 1.7MB/s eta 0:00:01\r",
      "\u001b[K     |███████████████▋                | 51kB 2.1MB/s eta 0:00:01\r",
      "\u001b[K     |██████████████████▉             | 61kB 2.5MB/s eta 0:00:01\r",
      "\u001b[K     |██████████████████████          | 71kB 2.9MB/s eta 0:00:01\r",
      "\u001b[K     |█████████████████████████       | 81kB 3.3MB/s eta 0:00:01\r",
      "\u001b[K     |████████████████████████████▏   | 92kB 3.7MB/s eta 0:00:01\r",
      "\u001b[K     |███████████████████████████████▎| 102kB 2.8MB/s eta 0:00:01\r",
      "\u001b[K     |████████████████████████████████| 112kB 2.8MB/s \n",
      "\u001b[?25hRequirement already satisfied: attrs in /usr/local/lib/python3.6/dist-packages (from neural_structured_learning) (19.3.0)\n",
      "Requirement already satisfied: six in /usr/local/lib/python3.6/dist-packages (from neural_structured_learning) (1.12.0)\n",
      "Requirement already satisfied: scipy in /usr/local/lib/python3.6/dist-packages (from neural_structured_learning) (1.4.1)\n",
      "Requirement already satisfied: absl-py in /usr/local/lib/python3.6/dist-packages (from neural_structured_learning) (0.9.0)\n",
      "Requirement already satisfied: numpy>=1.13.3 in /usr/local/lib/python3.6/dist-packages (from scipy->neural_structured_learning) (1.17.5)\n",
      "Installing collected packages: neural-structured-learning\n",
      "Successfully installed neural-structured-learning-1.1.0\n"
     ]
    }
   ],
   "source": [
    "import scipy.io as spio\n",
    "from google.colab import files\n",
    "import numpy as np\n",
    "import pandas as pd\n",
    "from numpy import zeros\n",
    "import time\n",
    "from importlib.machinery import SourceFileLoader\n",
    "\n",
    "# EEGNet-specific imports\n",
    "from EEG_Deep.EEGModels import EEGNet, ShallowConvNet, DeepConvNet, EEGNet_Patient\n",
    "from tensorflow.keras import utils as np_utils\n",
    "from tensorflow.keras.callbacks import ModelCheckpoint\n",
    "from tensorflow.keras import backend as K\n",
    "from keras import backend as K \n",
    "K.set_image_data_format('channels_first')\n",
    "\n",
    "from sklearn.pipeline import make_pipeline\n",
    "from sklearn.linear_model import LogisticRegression\n",
    "\n",
    "# tools for plotting confusion matrices\n",
    "from matplotlib import pyplot as plt\n",
    "from scipy.signal import butter, lfilter\n",
    "\n",
    "!pip install neural_structured_learning\n",
    "import tensorflow as tf\n",
    "import neural_structured_learning as nsl"
   ]
  },
  {
   "cell_type": "code",
   "execution_count": 0,
   "metadata": {
    "colab": {},
    "colab_type": "code",
    "id": "Mo80Jg_Pn5lP"
   },
   "outputs": [],
   "source": [
    "# Band-pass Filter\n",
    "def butter_bandpass_filter(data, lowcut, highcut, fs, order=4):\n",
    "    nyq = 0.5 * fs\n",
    "    low = lowcut / nyq\n",
    "    high = highcut / nyq\n",
    "    b, a = butter(order, [low, high], btype='band')\n",
    "    y = lfilter(b, a, data)\n",
    "    return y\n"
   ]
  },
  {
   "cell_type": "code",
   "execution_count": 0,
   "metadata": {
    "colab": {},
    "colab_type": "code",
    "id": "DUHXK4GEDfMR"
   },
   "outputs": [],
   "source": [
    "from numpy import zeros\n",
    "K.clear_session()\n",
    "\n",
    "# Initialize parameter\n",
    "h_cut = [24]\n",
    "drop_out = [0.25]\n",
    "k_len = [32, 64, 128]\n",
    "n_epochs = 300\n",
    "\n",
    "out_f_name = 'acc_NSL_EEGNet' + '_epochs_' + str(n_epochs) + '_filter_' + str(h_cut) +'_drop_' + str(drop_out) +'_ReniData.npy'\n",
    "print(out_f_name)\n",
    "\n",
    "nsub = 14\n",
    "nfilt = len(h_cut)\n",
    "ndrop = len(drop_out)\n",
    "nkl = len(k_len)\n",
    "loss_score = zeros([nsub, nfilt,ndrop,nkl])\n",
    "categorical_crossentropy_score = zeros([nsub, nfilt,ndrop,nkl])\n",
    "categorical_accuracy = zeros([nsub, nfilt,ndrop,nkl])\n",
    "\n",
    "X_tr = np.empty([100, 15, 4096])\n",
    "X_ts = np.empty([60, 15, 4096])\n",
    "\n",
    "\n",
    "for sub_idx, x in enumerate(range(1,15)):\n",
    "    for h_indx, h in enumerate(h_cut):\n",
    "      fName = 'EEG_Deep/Data2A/Eopched_S0' + str(x) + 'T.mat'  # Load Data\n",
    "      print(fName)\n",
    "      mat = spio.loadmat(fName)\n",
    "      r_X_tr = mat['cleanRawEEGData']\n",
    "      y_tr = mat['cleanClassLabels']\n",
    "      y_tr = y_tr.flatten() \n",
    "  \n",
    "      print(np.shape(r_X_tr))\n",
    "      print(np.shape(y_tr))\n",
    "\n",
    "      for t in range(r_X_tr.shape[0]):\n",
    "        tril = r_X_tr[t,:,:]\n",
    "        # tril = tril.transpose()\n",
    "        tril_filtered = butter_bandpass_filter(tril, lowcut=4, highcut=h, fs=250, order=4)\n",
    "        # tril_filtered = tril_filtered.transpose()\n",
    "        X_tr[t,:,:] = tril_filtered \n",
    "    \n",
    "      # split data of each subject in training and validation\n",
    "      X_train      = X_tr[0:80,:,1536:3072]\n",
    "      Y_train      = y_tr[0:80]\n",
    "      X_val       = X_tr[80:,:,1536:3072]\n",
    "      Y_val       = y_tr[80:]\n",
    "\n",
    "      print(np.shape(X_train))\n",
    "      print(np.shape(Y_train))\n",
    "      print(np.shape(X_val))\n",
    "      print(np.shape(Y_val))\n",
    "  \n",
    "      # convert labels to one-hot encodings.\n",
    "      Y_train      = np_utils.to_categorical(Y_train-1)\n",
    "      Y_val       = np_utils.to_categorical(Y_val-1)\n",
    "\n",
    "      kernels, chans, samples = 1, 15, 1536\n",
    "      # convert data to NCHW (trials, kernels, channels, samples) format. Data \n",
    "      # contains 22 channels and 500 time-points. Set the number of kernels to 1.\n",
    "      X_train      = X_train.reshape(X_train.shape[0], kernels, chans, samples)\n",
    "      X_val       = X_val.reshape(X_val.shape[0], kernels, chans, samples)\n",
    "   \n",
    "      print('X_train shape:', X_train.shape)\n",
    "      print(X_train.shape[0], 'train samples')\n",
    "      print(X_val.shape[0], 'val samples')\n",
    "\n",
    "      fName = 'EEG_Deep/Data2A/Eopched_S0' + str(x) + 'E.mat'  # Load Data\n",
    "      print(fName)\n",
    "      mat = spio.loadmat(fName)\n",
    "      r_X_ts = mat['cleanRawEEGData']\n",
    "      y_ts = mat['cleanClassLabels']\n",
    "      y_ts = y_ts.flatten() \n",
    "\n",
    "      print(np.shape(r_X_ts))\n",
    "      print(np.shape(y_ts))\n",
    "\n",
    "      for t in range(r_X_ts.shape[0]):\n",
    "        tril = r_X_ts[t,:,:]\n",
    "        # tril = tril.transpose()\n",
    "        tril_filtered = butter_bandpass_filter(tril, lowcut=4, highcut=h, fs=250, order=4)\n",
    "        # tril_filtered = tril_filtered.transpose()\n",
    "        X_ts[t,:,:] = tril_filtered \n",
    "\n",
    "      X_test      = X_ts[:,:,1536:3072]\n",
    "      Y_test      = y_ts[:]\n",
    "      print(np.shape(X_test))\n",
    "      print(np.shape(Y_test))\n",
    "\n",
    "      #convert labels to one-hot encodings.\n",
    "      Y_test      = np_utils.to_categorical(Y_test-1)\n",
    "\n",
    "      # convert data to NCHW (trials, kernels, channels, samples) format. Data \n",
    "      # contains 22 channels and 500 time-points. Set the number of kernels to 1.\n",
    "      X_test      = X_test.reshape(X_test.shape[0], kernels, chans, samples)\n",
    "\n",
    "      print('X_train shape:', X_test.shape)\n",
    "      print(X_test.shape[0], 'test samples')\n",
    "\n",
    "      for id_d, d in enumerate(drop_out):\n",
    "        for id_kl, kl in enumerate(k_len):\n",
    "          print(id_kl, id_d)\n",
    "          # configure the EEGNet-8,2,16 model with kernel length of 32 samples (other \n",
    "          # model configurations may do better, but this is a good starting point)\n",
    "          model = EEGNet(nb_classes = 2, Chans = 15, Samples = 1536, dropoutRate = d, \n",
    "                         kernLength = kl, F1 = 8, D = 2, F2 = 16, norm_rate = 0.25, \n",
    "                         dropoutType = 'Dropout')\n",
    "\n",
    "          adv_config = nsl.configs.make_adv_reg_config(multiplier=0.2, adv_step_size=0.5, adv_grad_norm='infinity')\n",
    "          adv_model = nsl.keras.AdversarialRegularization(model, adv_config=adv_config)\n",
    "  \n",
    "          # compile the model and set the optimizers\n",
    "          adv_model.compile(loss='categorical_crossentropy', optimizer='adam', metrics = ['accuracy'])\n",
    "          batch_size = 32\n",
    "\n",
    "          X_train = tf.cast(X_train, tf.float32)\n",
    "          X_test = tf.cast(X_test, tf.float32)\n",
    "          X_val = tf.cast(X_val, tf.float32)\n",
    "\n",
    "          train_data = tf.data.Dataset.from_tensor_slices({'input': X_train, 'label': Y_train}).batch(batch_size)\n",
    "          val_data = tf.data.Dataset.from_tensor_slices({'input': X_val, 'label': Y_val}).batch(batch_size)\n",
    "          test_data = tf.data.Dataset.from_tensor_slices({'input': X_test, 'label': Y_test}).batch(batch_size)\n",
    "\n",
    "          val_steps = X_val.shape[0] // batch_size\n",
    "          history = adv_model.fit(train_data, validation_data=val_data,\n",
    "                                  validation_steps=None, \n",
    "                                  epochs=n_epochs, verbose=1)\n",
    "\n",
    "          print('\\n# Evaluate on test data')\n",
    "          results = adv_model.evaluate(test_data)\n",
    "          print('test loss, test acc:', results)\n",
    "\n",
    "          loss_score[sub_idx,h_indx,id_d, id_kl] = results[0]\n",
    "          categorical_crossentropy_score[sub_idx,h_indx,id_d, id_kl] = results[1]\n",
    "          categorical_accuracy[sub_idx,h_indx,id_d, id_kl] = results[2]\n",
    "\n",
    "#           del train_data, val_data, test_data\n",
    "\n",
    "# #           from keras import backend as K \n",
    "#           K.clear_session()\n",
    "\n",
    "np.save(out_f_name, categorical_accuracy)\n"
   ]
  },
  {
   "cell_type": "code",
   "execution_count": 0,
   "metadata": {
    "colab": {},
    "colab_type": "code",
    "id": "W2EKJvw1R1mO"
   },
   "outputs": [],
   "source": [
    "np.save(out_f_name, categorical_accuracy)"
   ]
  },
  {
   "cell_type": "code",
   "execution_count": 0,
   "metadata": {
    "colab": {},
    "colab_type": "code",
    "id": "exCb9rbSJvrg"
   },
   "outputs": [],
   "source": []
  }
 ],
 "metadata": {
  "accelerator": "GPU",
  "colab": {
   "collapsed_sections": [],
   "include_colab_link": true,
   "machine_shape": "hm",
   "name": "main_Single_Trial_Classification_NSL_2Class_Grid_New",
   "provenance": []
  },
  "kernelspec": {
   "display_name": "Python 3",
   "language": "python",
   "name": "python3"
  },
  "language_info": {
   "codemirror_mode": {
    "name": "ipython",
    "version": 3
   },
   "file_extension": ".py",
   "mimetype": "text/x-python",
   "name": "python",
   "nbconvert_exporter": "python",
   "pygments_lexer": "ipython3",
   "version": "3.6.6"
  }
 },
 "nbformat": 4,
 "nbformat_minor": 1
}
